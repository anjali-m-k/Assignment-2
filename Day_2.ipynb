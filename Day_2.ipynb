{
  "nbformat": 4,
  "nbformat_minor": 0,
  "metadata": {
    "colab": {
      "name": "Day 2",
      "provenance": []
    },
    "kernelspec": {
      "name": "python3",
      "display_name": "Python 3"
    }
  },
  "cells": [
    {
      "cell_type": "markdown",
      "metadata": {
        "id": "izRjwCp9TEqS"
      },
      "source": [
        "Answer 1"
      ]
    },
    {
      "cell_type": "code",
      "metadata": {
        "id": "xaVttuW7TBIL"
      },
      "source": [
        "l=list()\n",
        "for i in range(10):\n",
        "  num=int(input())\n",
        "  if num%2==0:\n",
        "    l.append(num)\n",
        "print(l)"
      ],
      "execution_count": null,
      "outputs": []
    },
    {
      "cell_type": "markdown",
      "metadata": {
        "id": "U3Npr0B4T_ge"
      },
      "source": [
        "Answer 2"
      ]
    },
    {
      "cell_type": "code",
      "metadata": {
        "id": "wQRRntOBUBB7",
        "outputId": "40fcfecd-7faf-41de-d6fa-9a908eb6b82c",
        "colab": {
          "base_uri": "https://localhost:8080/"
        }
      },
      "source": [
        "list=[alphabet for alphabet in \"alphabet\"]\n",
        "print(list)"
      ],
      "execution_count": null,
      "outputs": [
        {
          "output_type": "stream",
          "text": [
            "['a', 'l', 'p', 'h', 'a', 'b', 'e', 't']\n"
          ],
          "name": "stdout"
        }
      ]
    },
    {
      "cell_type": "code",
      "metadata": {
        "id": "VBoJ7fLopEba",
        "outputId": "d0a97b26-ed01-4e00-f5d4-ca0a1ec156ed",
        "colab": {
          "base_uri": "https://localhost:8080/"
        }
      },
      "source": [
        "list=[x for x in range(10)]\n",
        "print(list)"
      ],
      "execution_count": null,
      "outputs": [
        {
          "output_type": "stream",
          "text": [
            "[0, 1, 2, 3, 4, 5, 6, 7, 8, 9]\n"
          ],
          "name": "stdout"
        }
      ]
    },
    {
      "cell_type": "code",
      "metadata": {
        "id": "5vzxB2S1plIW",
        "outputId": "e49eec3a-fe8d-4a83-a1c9-11863606b947",
        "colab": {
          "base_uri": "https://localhost:8080/"
        }
      },
      "source": [
        "list=[y for y in range (1,11) if y%2==0 if y%4==0]\n",
        "print(list)"
      ],
      "execution_count": null,
      "outputs": [
        {
          "output_type": "stream",
          "text": [
            "[4, 8]\n"
          ],
          "name": "stdout"
        }
      ]
    },
    {
      "cell_type": "code",
      "metadata": {
        "id": "8YbKnsC9rAnM",
        "outputId": "d22163c9-9120-454b-fb66-dcd29252004d",
        "colab": {
          "base_uri": "https://localhost:8080/"
        }
      },
      "source": [
        "list=[[x,y] for x in range(1,10,2) for y in range (10,20) if (x+y)%2==0]\n",
        "print(list)"
      ],
      "execution_count": null,
      "outputs": [
        {
          "output_type": "stream",
          "text": [
            "[[1, 11], [1, 13], [1, 15], [1, 17], [1, 19], [3, 11], [3, 13], [3, 15], [3, 17], [3, 19], [5, 11], [5, 13], [5, 15], [5, 17], [5, 19], [7, 11], [7, 13], [7, 15], [7, 17], [7, 19], [9, 11], [9, 13], [9, 15], [9, 17], [9, 19]]\n"
          ],
          "name": "stdout"
        }
      ]
    },
    {
      "cell_type": "code",
      "metadata": {
        "id": "rbsoOHYmsPck",
        "outputId": "b2df6165-769e-4164-8da1-7ddf03ec5425",
        "colab": {
          "base_uri": "https://localhost:8080/"
        }
      },
      "source": [
        "matrix=[[1,2,3],[4,5,6],[7,8,9]]\n",
        "list=[[row[i] for row in matrix ] for i in range(3)]\n",
        "print(list)"
      ],
      "execution_count": null,
      "outputs": [
        {
          "output_type": "stream",
          "text": [
            "[[1, 4, 7], [2, 5, 8], [3, 6, 9]]\n"
          ],
          "name": "stdout"
        }
      ]
    },
    {
      "cell_type": "markdown",
      "metadata": {
        "id": "zM_ZbUgcUBLx"
      },
      "source": [
        "Answer 3"
      ]
    },
    {
      "cell_type": "code",
      "metadata": {
        "id": "hG9GuCRnUCP6"
      },
      "source": [
        "n=int(input())\n",
        "d=dict()\n",
        "for i in range(1,n+1):\n",
        "  d.update({i:i*i})\n",
        "print(d)\n",
        "\n"
      ],
      "execution_count": null,
      "outputs": []
    },
    {
      "cell_type": "markdown",
      "metadata": {
        "id": "qWt2CLPNck81"
      },
      "source": [
        "Answer 4"
      ]
    },
    {
      "cell_type": "code",
      "metadata": {
        "id": "pnNTKkHocmbE"
      },
      "source": [
        "d=dict()\n",
        "x=0\n",
        "y=0\n",
        "for i in range(int(input())):\n",
        "  d.update({input():int(input())})\n",
        "for i in d.keys():\n",
        "  if i==\"LEFT\":\n",
        "    x-=d[i]\n",
        "  elif i==\"RIGHT\":\n",
        "    x+=d[i]\n",
        "  elif i==\"UP\":\n",
        "    y+=d[i]\n",
        "  elif i==\"DOWN\":\n",
        "    y-=d[i]\n",
        "\n",
        "print(round((x*x + y*y)**(1/2)))"
      ],
      "execution_count": null,
      "outputs": []
    }
  ]
}